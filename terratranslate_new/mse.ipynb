{
 "cells": [
  {
   "cell_type": "code",
   "execution_count": 6,
   "metadata": {},
   "outputs": [
    {
     "name": "stdout",
     "output_type": "stream",
     "text": [
      "Image matching Error between the two images: 12.38128662109375\n"
     ]
    }
   ],
   "source": [
    "# import required libraries\n",
    "import cv2\n",
    "import numpy as np\n",
    "\n",
    "# load the input images\n",
    "img1 = cv2.imread('./test/expected_val_mse.png')\n",
    "img2 = cv2.imread('./test/generated_mse.png')\n",
    "\n",
    "# convert the images to grayscale\n",
    "img1 = cv2.cvtColor(img1, cv2.COLOR_BGR2GRAY)\n",
    "img2 = cv2.cvtColor(img2, cv2.COLOR_BGR2GRAY)\n",
    "\n",
    "# define the function to compute MSE between two images\n",
    "def mse(img1, img2):\n",
    "   h, w = img1.shape\n",
    "   diff = cv2.subtract(img1, img2)\n",
    "   err = np.sum(diff**2)\n",
    "   mse = err/(float(h*w))\n",
    "   return mse, diff\n",
    "\n",
    "\n",
    "error, diff = mse(img1, img2)\n",
    "print(\"Image matching Error between the two images:\",error)\n",
    "\n",
    "cv2.imshow(\"difference\", diff)\n",
    "cv2.waitKey(0)\n",
    "cv2.destroyAllWindows()"
   ]
  }
 ],
 "metadata": {
  "kernelspec": {
   "display_name": "Python 3",
   "language": "python",
   "name": "python3"
  },
  "language_info": {
   "codemirror_mode": {
    "name": "ipython",
    "version": 3
   },
   "file_extension": ".py",
   "mimetype": "text/x-python",
   "name": "python",
   "nbconvert_exporter": "python",
   "pygments_lexer": "ipython3",
   "version": "3.11.4"
  }
 },
 "nbformat": 4,
 "nbformat_minor": 2
}
